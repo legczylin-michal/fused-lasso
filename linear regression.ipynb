{
 "cells": [
  {
   "cell_type": "code",
   "execution_count": 1,
   "id": "a1597725-f3f6-484c-b62b-82e9842341f0",
   "metadata": {},
   "outputs": [],
   "source": [
    "import numpy as np\n",
    "import matplotlib.pyplot as plt\n",
    "\n",
    "from sklearn.metrics import mean_squared_error\n",
    "from sklearn.model_selection import train_test_split\n",
    "from sklearn.linear_model import Lasso\n",
    "\n",
    "np.random.seed(666)"
   ]
  },
  {
   "cell_type": "code",
   "execution_count": 2,
   "id": "b0cf73e5-d308-4764-8125-745d6a96f9ea",
   "metadata": {},
   "outputs": [],
   "source": [
    "def soft_threshold(a, b):\n",
    "    return np.sign(a) * np.maximum((np.abs(a) - b), 0)"
   ]
  },
  {
   "cell_type": "code",
   "execution_count": 3,
   "id": "12661935-47f7-4f83-911a-771518366d64",
   "metadata": {},
   "outputs": [],
   "source": [
    "class LinRegLasso:\n",
    "    __slots__ = [\"__beta_tilde\", \"__gamma\", \"__max_iter\", \"__tol\", \"__mean_X\", \"__std_X\", \"__mean_y\"]\n",
    "\n",
    "    @property\n",
    "    def coef_(self):\n",
    "        return self.__beta_tilde\n",
    "\n",
    "    @property\n",
    "    def intercept_(self):\n",
    "        return self.__mean_y\n",
    "    \n",
    "    def __init__(self, C=1.0, max_iter=1000, tol=0.0001):\n",
    "        self.__beta_tilde = np.array([])\n",
    "        \n",
    "        self.__gamma = float(\"+inf\") if C == 0 else 1 / C\n",
    "        self.__max_iter = max_iter\n",
    "        self.__tol = tol\n",
    "\n",
    "        self.__mean_X = 0\n",
    "        self.__std_X = 1\n",
    "        self.__mean_y = 0\n",
    "        \n",
    "        return\n",
    "\n",
    "    def fit(self, X, y):\n",
    "        n, p = X.shape\n",
    "        \n",
    "        self.__mean_X = X.mean(axis=0)\n",
    "        self.__std_X = X.std(axis=0)\n",
    "\n",
    "        X_standarized = (X - self.__mean_X) / (np.sqrt(n - 1) * self.__std_X)\n",
    "\n",
    "        self.__mean_y = y.mean()\n",
    "        y_centered = y - self.__mean_y\n",
    "\n",
    "        self.__beta_tilde = soft_threshold(X_standarized.T @ y_centered, self.__gamma)\n",
    "        \n",
    "        converged = False\n",
    "        for _ in range(self.__max_iter):\n",
    "            old_beta_tilde = self.__beta_tilde.copy()\n",
    "            \n",
    "            self.__beta_tilde = soft_threshold(self.__beta_tilde + X_standarized.T @ (y_centered - X_standarized @ self.__beta_tilde), self.__gamma)\n",
    "\n",
    "            if np.linalg.norm(old_beta_tilde - self.__beta_tilde, 2) < self.__tol:\n",
    "                converged = True\n",
    "                \n",
    "                break\n",
    "\n",
    "        if not converged:\n",
    "            print(\"algorithm did not converge\")\n",
    "        \n",
    "        return self\n",
    "\n",
    "    def predict(self, X):\n",
    "        n, p = X.shape\n",
    "        \n",
    "        X_standarized = (X - self.__mean_X) / (np.sqrt(n - 1) * self.__std_X)\n",
    "        \n",
    "        return X_standarized @ self.__beta_tilde + self.__mean_y"
   ]
  },
  {
   "cell_type": "code",
   "execution_count": 4,
   "id": "20162cdc-4d24-4d16-b09e-b8af9a64414b",
   "metadata": {},
   "outputs": [],
   "source": [
    "def help_solve(d, a, b, c, lambda_a, lambda_b, lambda_c):\n",
    "    if d + lambda_a + lambda_b + lambda_c <= a:\n",
    "        return d + lambda_a + lambda_b + lambda_c\n",
    "    elif a < d - lambda_a + lambda_b + lambda_c <= b:\n",
    "        return d - lambda_a + lambda_b + lambda_c\n",
    "    elif b < d - lambda_a - lambda_b + lambda_c <= c:\n",
    "        return d - lambda_a - lambda_b + lambda_c\n",
    "    elif c < d - lambda_a - lambda_b - lambda_c:\n",
    "        return d - lambda_a - lambda_b - lambda_c\n",
    "\n",
    "    return None"
   ]
  },
  {
   "cell_type": "code",
   "execution_count": 5,
   "id": "050edc6c-cd52-4bb5-9db8-cc85b6ed2666",
   "metadata": {},
   "outputs": [],
   "source": [
    "class LinRegFusedLasso:\n",
    "    __slots__ = [\"__beta_tilde\", \"__lambda_1\", \"__lambda_2\", \"__max_iter\", \"__tol\", \"__mean_X\", \"__std_X\", \"__mean_y\"]\n",
    "\n",
    "    @property\n",
    "    def coef_(self):\n",
    "        return self.__beta_tilde\n",
    "\n",
    "    @property\n",
    "    def intercept_(self):\n",
    "        return self.__mean_y\n",
    "    \n",
    "    def __init__(self, lambda_1=1.0, lambda_2=1.0, max_iter=1000, tol=0.0001):\n",
    "        self.__beta_tilde = None\n",
    "        \n",
    "        self.__lambda_1 = lambda_1\n",
    "        self.__lambda_2 = lambda_2\n",
    "        self.__max_iter = max_iter\n",
    "        self.__tol = tol\n",
    "\n",
    "        self.__mean_X = 0\n",
    "        self.__std_X = 1\n",
    "        self.__mean_y = 0\n",
    "        \n",
    "        return\n",
    "\n",
    "    def __loss(self, beta, X, y):\n",
    "        return 0.5 * ((y - X @ beta) ** 2).sum() + self.__lambda_1 * abs(beta).sum() + self.__lambda_2 * abs(beta[1:] - beta[:-1]).sum()\n",
    "\n",
    "    def fit(self, X, y):\n",
    "        n, p = X.shape\n",
    "        \n",
    "        self.__mean_X = X.mean(axis=0)\n",
    "        self.__std_X = X.std(axis=0)\n",
    "\n",
    "        X_standarized = (X - self.__mean_X) / (np.sqrt(n - 1) * self.__std_X)\n",
    "\n",
    "        self.__mean_y = y.mean()\n",
    "        y_centered = y - self.__mean_y\n",
    "\n",
    "        self.__beta_tilde = np.zeros(p)\n",
    "\n",
    "        converged = False\n",
    "        for _ in range(self.__max_iter):\n",
    "            old_beta_tilde = self.__beta_tilde.copy()\n",
    "\n",
    "            d = X_standarized.T @ (y_centered - X_standarized @ self.__beta_tilde) + self.__beta_tilde\n",
    "\n",
    "            for j in range(p):                    \n",
    "                breakpoints = np.array([0, 0 if j == 0 else self.__beta_tilde[j - 1], 0 if j == p - 1 else self.__beta_tilde[j + 1]])\n",
    "                penalties = np.array([self.__lambda_1, 0 if j == 0 else self.__lambda_2, 0 if j == p - 1 else self.__lambda_2])\n",
    "                s = np.argsort(breakpoints)\n",
    "                breakpoints = breakpoints[s]\n",
    "                penalties = penalties[s]\n",
    "\n",
    "                a, b, c = breakpoints[0], breakpoints[1], breakpoints[2]\n",
    "                lambda_a, lambda_b, lambda_c = penalties[0], penalties[1], penalties[2]\n",
    "\n",
    "                sol = help_solve(d[j], a, b, c, lambda_a, lambda_b, lambda_c)\n",
    "\n",
    "                min_v = float(\"+inf\")\n",
    "                if sol is None:\n",
    "                    for _breakpoint in breakpoitns:\n",
    "                        self.__beta_tilde[j] = _breakpoint\n",
    "    \n",
    "                        v = self.__loss(self.__beta_tilde, X_standarized, y_centered)\n",
    "                        if v < min_v:\n",
    "                            min_v = v\n",
    "                            sol = _breakpoint\n",
    "                    \n",
    "                self.__beta_tilde[j] = sol\n",
    "\n",
    "            if np.linalg.norm(old_beta_tilde - self.__beta_tilde, 2) < self.__tol:\n",
    "                converged = True\n",
    "                \n",
    "                break\n",
    "\n",
    "        if not converged:\n",
    "            print(\"algorithm did not converge\")\n",
    "        \n",
    "        return self\n",
    "\n",
    "    def predict(self, X):\n",
    "        n, p = X.shape\n",
    "        \n",
    "        X_standarized = (X - self.__mean_X) / (np.sqrt(n - 1) * self.__std_X)\n",
    "        \n",
    "        return X_standarized @ self.__beta_tilde + self.__mean_y"
   ]
  },
  {
   "cell_type": "code",
   "execution_count": 6,
   "id": "4b4612a5-c577-40c9-962b-48d28c51e4f2",
   "metadata": {},
   "outputs": [],
   "source": [
    "n = 10000\n",
    "p = 5"
   ]
  },
  {
   "cell_type": "code",
   "execution_count": 7,
   "id": "4467c523-d9ce-4430-a1f6-563af8898d54",
   "metadata": {},
   "outputs": [],
   "source": [
    "X = np.random.normal(20, 10, (n, p))\n",
    "beta = np.random.randint(-4, 5, p)\n",
    "y = X @ beta + 30"
   ]
  },
  {
   "cell_type": "code",
   "execution_count": 8,
   "id": "dae360b0-f611-436a-8a50-58f4eb03b943",
   "metadata": {},
   "outputs": [],
   "source": [
    "X_train, X_test, y_train, y_test = train_test_split(X, y, train_size=0.7)"
   ]
  },
  {
   "cell_type": "code",
   "execution_count": 9,
   "id": "8a5ef374-30c0-482c-87d2-ec1afea5f2d9",
   "metadata": {},
   "outputs": [],
   "source": [
    "model = LinRegLasso().fit(X_train, y_train)"
   ]
  },
  {
   "cell_type": "code",
   "execution_count": 10,
   "id": "cada628b-9cd3-4d94-9ba5-64678fa1081b",
   "metadata": {},
   "outputs": [
    {
     "name": "stdout",
     "output_type": "stream",
     "text": [
      "129.74521277857235 -1680.7257137792953 2491.426212103525 -0.0 838.0838473872583 2499.7178580732298\n"
     ]
    }
   ],
   "source": [
    "print(model.intercept_, *model.coef_)"
   ]
  },
  {
   "cell_type": "code",
   "execution_count": 11,
   "id": "30322cca-74da-41ad-aae5-b4921960a128",
   "metadata": {},
   "outputs": [
    {
     "data": {
      "text/plain": [
       "0.0005639646679870428"
      ]
     },
     "execution_count": 11,
     "metadata": {},
     "output_type": "execute_result"
    }
   ],
   "source": [
    "mean_squared_error(y_train, model.predict(X_train))"
   ]
  },
  {
   "cell_type": "code",
   "execution_count": 12,
   "id": "5e5a6373-3984-4cd0-a4f2-c1475e588a25",
   "metadata": {},
   "outputs": [
    {
     "data": {
      "text/plain": [
       "643.4759603548349"
      ]
     },
     "execution_count": 12,
     "metadata": {},
     "output_type": "execute_result"
    }
   ],
   "source": [
    "mean_squared_error(y_test, model.predict(X_test))"
   ]
  },
  {
   "cell_type": "code",
   "execution_count": 13,
   "id": "188b527b-6e0a-4bee-a1da-1677ee05e59d",
   "metadata": {},
   "outputs": [],
   "source": [
    "model_fused = LinRegFusedLasso().fit(X_train, y_train)"
   ]
  },
  {
   "cell_type": "code",
   "execution_count": 14,
   "id": "37dd23e3-d84a-48b9-a5e3-34a85c4187ce",
   "metadata": {},
   "outputs": [
    {
     "name": "stdout",
     "output_type": "stream",
     "text": [
      "129.74521277857235 -1679.7883745477761 2489.4368812842654 0.9277898795027519 838.1022903872771 2498.7104891738013\n"
     ]
    }
   ],
   "source": [
    "print(model_fused.intercept_, *model_fused.coef_)"
   ]
  },
  {
   "cell_type": "code",
   "execution_count": 15,
   "id": "4cdc4c79-e992-4edc-98f4-3b04f61ec508",
   "metadata": {},
   "outputs": [
    {
     "data": {
      "text/plain": [
       "0.002666511668795142"
      ]
     },
     "execution_count": 15,
     "metadata": {},
     "output_type": "execute_result"
    }
   ],
   "source": [
    "mean_squared_error(y_train, model_fused.predict(X_train))"
   ]
  },
  {
   "cell_type": "code",
   "execution_count": 16,
   "id": "223d3b90-360b-4041-82b5-6958e9f5e2d9",
   "metadata": {},
   "outputs": [
    {
     "data": {
      "text/plain": [
       "641.3956419045485"
      ]
     },
     "execution_count": 16,
     "metadata": {},
     "output_type": "execute_result"
    }
   ],
   "source": [
    "mean_squared_error(y_test, model_fused.predict(X_test))"
   ]
  },
  {
   "cell_type": "code",
   "execution_count": 17,
   "id": "78796a02-88ca-4395-a67c-bfb3496de1c4",
   "metadata": {},
   "outputs": [],
   "source": [
    "_model = Lasso().fit(X_train, y_train)"
   ]
  },
  {
   "cell_type": "code",
   "execution_count": 18,
   "id": "a75b0d0b-a1e6-4478-a94c-8d6ae9f1182a",
   "metadata": {},
   "outputs": [
    {
     "name": "stdout",
     "output_type": "stream",
     "text": [
      "30.406426124648846 -1.9904433599233415 2.9898788957388054 -0.0 0.9901108613338742 2.9900278819160304\n"
     ]
    }
   ],
   "source": [
    "print(_model.intercept_, *_model.coef_)"
   ]
  },
  {
   "cell_type": "code",
   "execution_count": 19,
   "id": "f3b9a062-be50-40a8-8da6-06f3ebc44cc9",
   "metadata": {},
   "outputs": [
    {
     "data": {
      "text/plain": [
       "0.03953900022388478"
      ]
     },
     "execution_count": 19,
     "metadata": {},
     "output_type": "execute_result"
    }
   ],
   "source": [
    "mean_squared_error(y_train, _model.predict(X_train))"
   ]
  },
  {
   "cell_type": "code",
   "execution_count": 20,
   "id": "07b97aba-1e0c-46e4-969d-dec9dc719920",
   "metadata": {},
   "outputs": [
    {
     "data": {
      "text/plain": [
       "0.0397956973212512"
      ]
     },
     "execution_count": 20,
     "metadata": {},
     "output_type": "execute_result"
    }
   ],
   "source": [
    "mean_squared_error(y_test, _model.predict(X_test))"
   ]
  }
 ],
 "metadata": {
  "kernelspec": {
   "display_name": "Python 3 (ipykernel)",
   "language": "python",
   "name": "python3"
  },
  "language_info": {
   "codemirror_mode": {
    "name": "ipython",
    "version": 3
   },
   "file_extension": ".py",
   "mimetype": "text/x-python",
   "name": "python",
   "nbconvert_exporter": "python",
   "pygments_lexer": "ipython3",
   "version": "3.12.8"
  }
 },
 "nbformat": 4,
 "nbformat_minor": 5
}
