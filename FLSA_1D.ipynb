{
 "cells": [
  {
   "cell_type": "code",
   "execution_count": 1,
   "id": "ea67875d-c2f0-4725-b61f-2492e285e650",
   "metadata": {},
   "outputs": [],
   "source": [
    "import numpy as np\n",
    "import matplotlib.pyplot as plt\n",
    "\n",
    "np.random.seed(666)"
   ]
  },
  {
   "cell_type": "code",
   "execution_count": 2,
   "id": "b2d35346-5506-45a8-a091-982ec0ee1766",
   "metadata": {},
   "outputs": [],
   "source": [
    "def arange(start, end, step):\n",
    "    return np.linspace(start, end, int(np.ceil((end - start) / step) + 1))"
   ]
  },
  {
   "cell_type": "code",
   "execution_count": 3,
   "id": "b5243768-cdf0-43e5-b727-dd04153ba251",
   "metadata": {},
   "outputs": [],
   "source": [
    "def solve(d, a, b, c, lambda_a, lambda_b, lambda_c):\n",
    "    if d + lambda_a + lambda_b + lambda_c <= a:\n",
    "        return d + lambda_a + lambda_b + lambda_c\n",
    "    elif a < d - lambda_a + lambda_b + lambda_c <= b:\n",
    "        return d - lambda_a + lambda_b + lambda_c\n",
    "    elif b < d - lambda_a - lambda_b + lambda_c <= c:\n",
    "        return d - lambda_a - lambda_b + lambda_c\n",
    "    elif c < d - lambda_a - lambda_b - lambda_c:\n",
    "        return d - lambda_a - lambda_b - lambda_c\n",
    "    \n",
    "    return None"
   ]
  },
  {
   "cell_type": "code",
   "execution_count": 4,
   "id": "e400af21-eadc-4449-a572-ccdd10259a51",
   "metadata": {},
   "outputs": [],
   "source": [
    "class FLSA_1D:\n",
    "    __slots__ = [\"__beta_tilde\", \"__w\", \"__tol\", \"__lambda_1\", \"__lambda_2\"]\n",
    "    \n",
    "    @property\n",
    "    def coef_(self):\n",
    "        return np.repeat(self.__beta_tilde, self.__w)\n",
    "\n",
    "    @property\n",
    "    def beta_tilde(self):\n",
    "        return self.__beta_tilde\n",
    "\n",
    "    @property\n",
    "    def weights(self):\n",
    "        return self.__w\n",
    "        \n",
    "    def __init__(self, lambda_1=1.0, lambda_2=1.0, tol=0.0001):\n",
    "        self.__beta_tilde = np.array([])\n",
    "        self.__w = np.array([])\n",
    "\n",
    "        self.__tol = tol\n",
    "        \n",
    "        self.__lambda_1 = lambda_1\n",
    "        self.__lambda_2 = lambda_2\n",
    "        \n",
    "        return\n",
    "\n",
    "    def __loss(self, beta, y, w):\n",
    "        return 0.5 * (w * (y - beta) ** 2).sum() + self.__lambda_1 * (w * abs(beta)).sum() + self.__lambda_2 * (abs(beta[1:] - beta[:-1])).sum()\n",
    "\n",
    "    def __roughly_equal(self, a, b):\n",
    "        return np.linalg.norm(a - b, 2) < self.__tol\n",
    "\n",
    "    def fit(self, y, quick=True):\n",
    "        delta = 1e-9\n",
    "\n",
    "        n = len(y)\n",
    "        self.__beta_tilde = np.zeros(n)\n",
    "        self.__w = np.ones(n, dtype=np.int32)\n",
    "\n",
    "        # iterate over lambda_2\n",
    "        for lambda_2 in (np.linspace(0, self.__lambda_2, 1000) if quick else arange(0, self.__lambda_2, delta)):\n",
    "            # consider fusion of neighbouring parameters\n",
    "            for i in range(1, len(y)):\n",
    "                # fuse y_{i-1} and y_i together\n",
    "                tmp_y = np.concat([\n",
    "                    y[:i - 1],\n",
    "                    np.array([(self.__w[i - 1] * y[i - 1] + self.__w[i] * y[i]) / (self.__w[i - 1] + self.__w[i])]),\n",
    "                    y[i + 1:]\n",
    "                ])\n",
    "                # \n",
    "                tmp_beta_tilde = np.concat([\n",
    "                    self.__beta_tilde[:i - 1],\n",
    "                    np.array([0]),\n",
    "                    self.__beta_tilde[i + 1:]\n",
    "                ])\n",
    "                # vector of weights\n",
    "                tmp_w = np.concat([\n",
    "                    self.__w[:i - 1],\n",
    "                    np.array([self.__w[i - 1] + self.__w[i]]),\n",
    "                    self.__w[i + 1:]\n",
    "                ])           \n",
    "\n",
    "                breakpoints = np.array([0, 0 if i == 1 else self.__beta_tilde[i - 2], 0 if i == len(y) - 1 else self.__beta_tilde[i + 1]])\n",
    "                penalties = np.array([self.__lambda_1, 0 if i == 0 else self.__lambda_2 / tmp_w[i - 1], 0 if i == len(y) - 1 else self.__lambda_2 / tmp_w[i - 1]])\n",
    "                s = np.argsort(breakpoints)\n",
    "                breakpoints = breakpoints[s]\n",
    "                penalties = penalties[s]\n",
    "\n",
    "                a, b, c = breakpoints[0], breakpoints[1], breakpoints[2]\n",
    "                lambda_a, lambda_b, lambda_c = penalties[0], penalties[1], penalties[2]\n",
    "                \n",
    "                gamma = solve(tmp_y[i - 1], a, b, c, lambda_a, lambda_b, lambda_c)\n",
    "\n",
    "                if gamma is None:\n",
    "                    min_v = float(\"+inf\")\n",
    "                    min_p = 0\n",
    "\n",
    "                    for _breakpoint in breakpoints:\n",
    "                        tmp_beta_tilde[i - 1]  = _breakpoint \n",
    "                        \n",
    "                        v = self.__loss(tmp_beta_tilde, tmp_y, tmp_w)\n",
    "                        if v < min_v:\n",
    "                            min_v = v\n",
    "                            gamma = _breakpoint\n",
    "\n",
    "                self.__beta_tilde[i - 1] = gamma\n",
    "                self.__beta_tilde[i] = gamma\n",
    "\n",
    "            # here\n",
    "            i = 1\n",
    "            while i < len(y):\n",
    "                # if (beta[i - 1] == beta[i] && beta[i - 1] != 0)\n",
    "                if self.__roughly_equal(self.__beta_tilde[[i - 1]], self.__beta_tilde[[i]]) and not self.__roughly_equal(self.__beta_tilde[[i]], 0):\n",
    "                    y = np.concat([\n",
    "                        y[:i - 1], \n",
    "                        np.array([(y[i - 1] + y[i]) / 2]),\n",
    "                        y[i + 1:]\n",
    "                    ])\n",
    "                    self.__beta_tilde = np.concat([\n",
    "                        self.__beta_tilde[:i],\n",
    "                        self.__beta_tilde[i + 1:]\n",
    "                    ])\n",
    "                    self.__w = np.concat([\n",
    "                        self.__w[:i - 1],\n",
    "                        np.array([self.__w[i - 1] + self.__w[i]]),\n",
    "                        self.__w[i + 1:]\n",
    "                    ])\n",
    "\n",
    "                    continue\n",
    "\n",
    "                i += 1\n",
    "\n",
    "        return self"
   ]
  },
  {
   "cell_type": "code",
   "execution_count": 5,
   "id": "dc7e596e-dc21-43c7-8cf6-2918eba3c4b9",
   "metadata": {},
   "outputs": [],
   "source": [
    "y = np.concat([\n",
    "    np.random.normal(0, 1, 10),\n",
    "    np.random.normal(10, 1, 20),\n",
    "    np.random.normal(0, 1, 50),\n",
    "    np.random.normal(20, 1, 10),\n",
    "    np.random.normal(0, 1, 10)\n",
    "])"
   ]
  },
  {
   "cell_type": "code",
   "execution_count": 6,
   "id": "6d2186ef-32e1-4c04-81b3-5114c9d2f8d0",
   "metadata": {},
   "outputs": [],
   "source": [
    "y_train, y_test = y[1::2], y[::2]"
   ]
  },
  {
   "cell_type": "code",
   "execution_count": 7,
   "id": "af8f50e4-57a7-487a-9080-b1608151662b",
   "metadata": {},
   "outputs": [
    {
     "data": {
      "text/plain": [
       "<matplotlib.collections.PathCollection at 0x1d5ceb11be0>"
      ]
     },
     "execution_count": 7,
     "metadata": {},
     "output_type": "execute_result"
    },
    {
     "data": {
      "image/png": "[encoded data removed]",
      "text/plain": [
       "<Figure size 640x480 with 1 Axes>"
      ]
     },
     "metadata": {},
     "output_type": "display_data"
    }
   ],
   "source": [
    "plt.scatter(range(len(y)), y)"
   ]
  },
  {
   "cell_type": "code",
   "execution_count": 8,
   "id": "2e410c1c-ba9c-415c-a12c-761d4c4f3f47",
   "metadata": {
    "scrolled": true
   },
   "outputs": [],
   "source": [
    "model = FLSA_1D(lambda_2=10).fit(y_train)"
   ]
  },
  {
   "cell_type": "code",
   "execution_count": 9,
   "id": "99ffe396-d8f2-4de4-9bc3-002c6231d0ef",
   "metadata": {},
   "outputs": [
    {
     "data": {
      "image/png": "[encoded data removed]",
      "text/plain": [
       "<Figure size 640x480 with 1 Axes>"
      ]
     },
     "metadata": {},
     "output_type": "display_data"
    }
   ],
   "source": [
    "plt.plot(range(len(model.coef_)), model.coef_)\n",
    "# plt.scatter(range(len(y_train)), y_train)\n",
    "plt.scatter(range(len(y_test)), y_test)\n",
    "plt.show()"
   ]
  }
 ],
 "metadata": {
  "kernelspec": {
   "display_name": "Python 3 (ipykernel)",
   "language": "python",
   "name": "python3"
  },
  "language_info": {
   "codemirror_mode": {
    "name": "ipython",
    "version": 3
   },
   "file_extension": ".py",
   "mimetype": "text/x-python",
   "name": "python",
   "nbconvert_exporter": "python",
   "pygments_lexer": "ipython3",
   "version": "3.13.3"
  }
 },
 "nbformat": 4,
 "nbformat_minor": 5
}
